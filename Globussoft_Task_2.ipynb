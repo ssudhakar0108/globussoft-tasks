{
 "cells": [
  {
   "cell_type": "markdown",
   "metadata": {},
   "source": [
    "#  Data annotation by collecting data and creating custum dataset for training"
   ]
  },
  {
   "cell_type": "code",
   "execution_count": 45,
   "metadata": {},
   "outputs": [
    {
     "data": {
      "text/html": [
       "<div>\n",
       "<style scoped>\n",
       "    .dataframe tbody tr th:only-of-type {\n",
       "        vertical-align: middle;\n",
       "    }\n",
       "\n",
       "    .dataframe tbody tr th {\n",
       "        vertical-align: top;\n",
       "    }\n",
       "\n",
       "    .dataframe thead th {\n",
       "        text-align: right;\n",
       "    }\n",
       "</style>\n",
       "<table border=\"1\" class=\"dataframe\">\n",
       "  <thead>\n",
       "    <tr style=\"text-align: right;\">\n",
       "      <th></th>\n",
       "      <th>Unnamed: 0</th>\n",
       "      <th>Message</th>\n",
       "      <th>Intent</th>\n",
       "    </tr>\n",
       "  </thead>\n",
       "  <tbody>\n",
       "    <tr>\n",
       "      <th>0</th>\n",
       "      <td>0</td>\n",
       "      <td>Achieve Alleviate Auction Avoid Bargain Bargai...</td>\n",
       "      <td>buyer</td>\n",
       "    </tr>\n",
       "    <tr>\n",
       "      <th>1</th>\n",
       "      <td>1</td>\n",
       "      <td>Buy Coupon Discount Deal Shipping Hello sir, w...</td>\n",
       "      <td>seller</td>\n",
       "    </tr>\n",
       "    <tr>\n",
       "      <th>2</th>\n",
       "      <td>2</td>\n",
       "      <td>During the past decade, marketing managers and...</td>\n",
       "      <td>buyer&amp;seller</td>\n",
       "    </tr>\n",
       "  </tbody>\n",
       "</table>\n",
       "</div>"
      ],
      "text/plain": [
       "   Unnamed: 0                                            Message        Intent\n",
       "0           0  Achieve Alleviate Auction Avoid Bargain Bargai...         buyer\n",
       "1           1  Buy Coupon Discount Deal Shipping Hello sir, w...        seller\n",
       "2           2  During the past decade, marketing managers and...  buyer&seller"
      ]
     },
     "execution_count": 45,
     "metadata": {},
     "output_type": "execute_result"
    }
   ],
   "source": [
    "import pandas as pd\n",
    "train=pd.read_csv(\"dataframe4.csv\")\n",
    "train"
   ]
  },
  {
   "cell_type": "code",
   "execution_count": 46,
   "metadata": {},
   "outputs": [
    {
     "name": "stderr",
     "output_type": "stream",
     "text": [
      "/home/sudhakar/anaconda3/lib/python3.7/site-packages/IPython/core/interactiveshell.py:3063: DtypeWarning: Columns (6) have mixed types.Specify dtype option on import or set low_memory=False.\n",
      "  interactivity=interactivity, compiler=compiler, result=result)\n"
     ]
    },
    {
     "data": {
      "text/html": [
       "<div>\n",
       "<style scoped>\n",
       "    .dataframe tbody tr th:only-of-type {\n",
       "        vertical-align: middle;\n",
       "    }\n",
       "\n",
       "    .dataframe tbody tr th {\n",
       "        vertical-align: top;\n",
       "    }\n",
       "\n",
       "    .dataframe thead th {\n",
       "        text-align: right;\n",
       "    }\n",
       "</style>\n",
       "<table border=\"1\" class=\"dataframe\">\n",
       "  <thead>\n",
       "    <tr style=\"text-align: right;\">\n",
       "      <th></th>\n",
       "      <th>_id</th>\n",
       "      <th>Id</th>\n",
       "      <th>GroupId</th>\n",
       "      <th>GroupName</th>\n",
       "      <th>PostId</th>\n",
       "      <th>PostType</th>\n",
       "      <th>UserProfileId</th>\n",
       "      <th>ProfileName</th>\n",
       "      <th>ProfileImage</th>\n",
       "      <th>ProfileImageOriginal</th>\n",
       "      <th>...</th>\n",
       "      <th>NoOfComment</th>\n",
       "      <th>NoOfShare</th>\n",
       "      <th>DateTimeOfPost</th>\n",
       "      <th>connectionStatus</th>\n",
       "      <th>postUrl</th>\n",
       "      <th>DestinationURL</th>\n",
       "      <th>savePostDateTimeUtc</th>\n",
       "      <th>mediaPostUrlUpdated</th>\n",
       "      <th>CommentDetails</th>\n",
       "      <th>HashTag</th>\n",
       "    </tr>\n",
       "  </thead>\n",
       "  <tbody>\n",
       "    <tr>\n",
       "      <th>0</th>\n",
       "      <td>{\"$oid\":\"5b1aa7ee8bb55b300895a775\"}</td>\n",
       "      <td>5b1aa7ee8bb55b300895a774</td>\n",
       "      <td>{\"$numberLong\":\"1124374080936565\"}</td>\n",
       "      <td>Empower Your Online Success</td>\n",
       "      <td>{\"$numberLong\":\"2171117736262189\"}</td>\n",
       "      <td>IMAGE</td>\n",
       "      <td>1348490940</td>\n",
       "      <td>Shawn Lemoine</td>\n",
       "      <td>https://api.socioleadspro.com/api/Media/getpro...</td>\n",
       "      <td>https://scontent-lhr3-1.xx.fbcdn.net/v/t1.0-1/...</td>\n",
       "      <td>...</td>\n",
       "      <td>0</td>\n",
       "      <td>0</td>\n",
       "      <td>1528458840</td>\n",
       "      <td>False</td>\n",
       "      <td>https://www.facebook.com/groups/11243740809365...</td>\n",
       "      <td>NaN</td>\n",
       "      <td>1528473583</td>\n",
       "      <td>True</td>\n",
       "      <td>NaN</td>\n",
       "      <td>NaN</td>\n",
       "    </tr>\n",
       "    <tr>\n",
       "      <th>1</th>\n",
       "      <td>{\"$oid\":\"5b1aa7ee8bb55b300895a777\"}</td>\n",
       "      <td>5b1aa7ee8bb55b300895a776</td>\n",
       "      <td>{\"$numberLong\":\"1124374080936565\"}</td>\n",
       "      <td>Empower Your Online Success</td>\n",
       "      <td>{\"$numberLong\":\"2170670772973552\"}</td>\n",
       "      <td>IMAGE</td>\n",
       "      <td>1348490940</td>\n",
       "      <td>Shawn Lemoine</td>\n",
       "      <td>https://api.socioleadspro.com/api/Media/getpro...</td>\n",
       "      <td>https://scontent-lhr3-1.xx.fbcdn.net/v/t1.0-1/...</td>\n",
       "      <td>...</td>\n",
       "      <td>0</td>\n",
       "      <td>0</td>\n",
       "      <td>1528428573</td>\n",
       "      <td>False</td>\n",
       "      <td>https://www.facebook.com/groups/11243740809365...</td>\n",
       "      <td>NaN</td>\n",
       "      <td>1528473583</td>\n",
       "      <td>True</td>\n",
       "      <td>NaN</td>\n",
       "      <td>NaN</td>\n",
       "    </tr>\n",
       "    <tr>\n",
       "      <th>2</th>\n",
       "      <td>{\"$oid\":\"5b1aa7ee8bb55b300895a779\"}</td>\n",
       "      <td>5b1aa7ee8bb55b300895a778</td>\n",
       "      <td>{\"$numberLong\":\"1124374080936565\"}</td>\n",
       "      <td>Empower Your Online Success</td>\n",
       "      <td>{\"$numberLong\":\"2170408029666493\"}</td>\n",
       "      <td>IMAGE</td>\n",
       "      <td>1348490940</td>\n",
       "      <td>Shawn Lemoine</td>\n",
       "      <td>https://api.socioleadspro.com/api/Media/getpro...</td>\n",
       "      <td>https://scontent-lhr3-1.xx.fbcdn.net/v/t1.0-1/...</td>\n",
       "      <td>...</td>\n",
       "      <td>0</td>\n",
       "      <td>0</td>\n",
       "      <td>1528412555</td>\n",
       "      <td>False</td>\n",
       "      <td>https://www.facebook.com/groups/11243740809365...</td>\n",
       "      <td>NaN</td>\n",
       "      <td>1528473583</td>\n",
       "      <td>True</td>\n",
       "      <td>NaN</td>\n",
       "      <td>NaN</td>\n",
       "    </tr>\n",
       "    <tr>\n",
       "      <th>3</th>\n",
       "      <td>{\"$oid\":\"5b1aa7ee8bb55b300895a77b\"}</td>\n",
       "      <td>5b1aa7ee8bb55b300895a77a</td>\n",
       "      <td>{\"$numberLong\":\"1124374080936565\"}</td>\n",
       "      <td>Empower Your Online Success</td>\n",
       "      <td>{\"$numberLong\":\"2169907019716594\"}</td>\n",
       "      <td>IMAGE</td>\n",
       "      <td>100000659454027</td>\n",
       "      <td>Gian Fortuin</td>\n",
       "      <td>https://api.socioleadspro.com/api/Media/getpro...</td>\n",
       "      <td>https://scontent-lhr3-1.xx.fbcdn.net/v/t1.0-1/...</td>\n",
       "      <td>...</td>\n",
       "      <td>4</td>\n",
       "      <td>0</td>\n",
       "      <td>1528381983</td>\n",
       "      <td>False</td>\n",
       "      <td>https://www.facebook.com/groups/11243740809365...</td>\n",
       "      <td>NaN</td>\n",
       "      <td>1528473583</td>\n",
       "      <td>True</td>\n",
       "      <td>NaN</td>\n",
       "      <td>NaN</td>\n",
       "    </tr>\n",
       "    <tr>\n",
       "      <th>4</th>\n",
       "      <td>{\"$oid\":\"5b1aa7ee8bb55b300895a77d\"}</td>\n",
       "      <td>5b1aa7ee8bb55b300895a77c</td>\n",
       "      <td>{\"$numberLong\":\"1124374080936565\"}</td>\n",
       "      <td>Empower Your Online Success</td>\n",
       "      <td>{\"$numberLong\":\"2169711059736190\"}</td>\n",
       "      <td>IMAGE</td>\n",
       "      <td>1348490940</td>\n",
       "      <td>Shawn Lemoine</td>\n",
       "      <td>https://api.socioleadspro.com/api/Media/getpro...</td>\n",
       "      <td>https://scontent-lhr3-1.xx.fbcdn.net/v/t1.0-1/...</td>\n",
       "      <td>...</td>\n",
       "      <td>0</td>\n",
       "      <td>0</td>\n",
       "      <td>1528371412</td>\n",
       "      <td>False</td>\n",
       "      <td>https://www.facebook.com/groups/11243740809365...</td>\n",
       "      <td>NaN</td>\n",
       "      <td>1528473583</td>\n",
       "      <td>True</td>\n",
       "      <td>NaN</td>\n",
       "      <td>NaN</td>\n",
       "    </tr>\n",
       "    <tr>\n",
       "      <th>...</th>\n",
       "      <td>...</td>\n",
       "      <td>...</td>\n",
       "      <td>...</td>\n",
       "      <td>...</td>\n",
       "      <td>...</td>\n",
       "      <td>...</td>\n",
       "      <td>...</td>\n",
       "      <td>...</td>\n",
       "      <td>...</td>\n",
       "      <td>...</td>\n",
       "      <td>...</td>\n",
       "      <td>...</td>\n",
       "      <td>...</td>\n",
       "      <td>...</td>\n",
       "      <td>...</td>\n",
       "      <td>...</td>\n",
       "      <td>...</td>\n",
       "      <td>...</td>\n",
       "      <td>...</td>\n",
       "      <td>...</td>\n",
       "      <td>...</td>\n",
       "    </tr>\n",
       "    <tr>\n",
       "      <th>201881</th>\n",
       "      <td>{\"$oid\":\"5d11b7e7a3df6323f881ab7a\"}</td>\n",
       "      <td>5d11b7e7a3df6323f881ab79</td>\n",
       "      <td>{\"$numberLong\":\"660080627366565\"}</td>\n",
       "      <td>Affiliate Marketing - Worldwide</td>\n",
       "      <td>{\"$numberLong\":\"3034933096547961\"}</td>\n",
       "      <td>TEXT</td>\n",
       "      <td>1518169448</td>\n",
       "      <td>William Ugwu</td>\n",
       "      <td>https://api.socioleads.com/api/Media/getpro?id...</td>\n",
       "      <td>http://graph.facebook.com/1518169448/picture?t...</td>\n",
       "      <td>...</td>\n",
       "      <td>0</td>\n",
       "      <td>0</td>\n",
       "      <td>1561439239</td>\n",
       "      <td>False</td>\n",
       "      <td>https://www.facebook.com/3034933096547961</td>\n",
       "      <td>NaN</td>\n",
       "      <td>1561442279</td>\n",
       "      <td>True</td>\n",
       "      <td>NaN</td>\n",
       "      <td>NaN</td>\n",
       "    </tr>\n",
       "    <tr>\n",
       "      <th>201882</th>\n",
       "      <td>{\"$oid\":\"5d11b7e7a3df6323f881ab7c\"}</td>\n",
       "      <td>5d11b7e7a3df6323f881ab7b</td>\n",
       "      <td>{\"$numberLong\":\"660080627366565\"}</td>\n",
       "      <td>Affiliate Marketing - Worldwide</td>\n",
       "      <td>{\"$numberLong\":\"3034932736547997\"}</td>\n",
       "      <td>TEXT</td>\n",
       "      <td>100005831411823</td>\n",
       "      <td>Jonathan Reeves</td>\n",
       "      <td>https://api.socioleads.com/api/Media/getpro?id...</td>\n",
       "      <td>http://graph.facebook.com/100005831411823/pict...</td>\n",
       "      <td>...</td>\n",
       "      <td>0</td>\n",
       "      <td>0</td>\n",
       "      <td>1561439225</td>\n",
       "      <td>False</td>\n",
       "      <td>https://www.facebook.com/3034932736547997</td>\n",
       "      <td>NaN</td>\n",
       "      <td>1561442279</td>\n",
       "      <td>True</td>\n",
       "      <td>NaN</td>\n",
       "      <td>NaN</td>\n",
       "    </tr>\n",
       "    <tr>\n",
       "      <th>201883</th>\n",
       "      <td>{\"$oid\":\"5d11b7e7a3df6323f881ab7e\"}</td>\n",
       "      <td>5d11b7e7a3df6323f881ab7d</td>\n",
       "      <td>{\"$numberLong\":\"660080627366565\"}</td>\n",
       "      <td>Affiliate Marketing - Worldwide</td>\n",
       "      <td>{\"$numberLong\":\"3034932226548048\"}</td>\n",
       "      <td>IMAGE</td>\n",
       "      <td>100035763981237</td>\n",
       "      <td>Yoyozhu</td>\n",
       "      <td>https://api.socioleads.com/api/Media/getpro?id...</td>\n",
       "      <td>http://graph.facebook.com/100035763981237/pict...</td>\n",
       "      <td>...</td>\n",
       "      <td>0</td>\n",
       "      <td>0</td>\n",
       "      <td>1561439205</td>\n",
       "      <td>False</td>\n",
       "      <td>https://www.facebook.com/3034932226548048</td>\n",
       "      <td>NaN</td>\n",
       "      <td>1561442280</td>\n",
       "      <td>False</td>\n",
       "      <td>NaN</td>\n",
       "      <td>NaN</td>\n",
       "    </tr>\n",
       "    <tr>\n",
       "      <th>201884</th>\n",
       "      <td>{\"$oid\":\"5d11b7e7a3df6323f881ab80\"}</td>\n",
       "      <td>5d11b7e7a3df6323f881ab7f</td>\n",
       "      <td>{\"$numberLong\":\"660080627366565\"}</td>\n",
       "      <td>Affiliate Marketing - Worldwide</td>\n",
       "      <td>{\"$numberLong\":\"3034931809881423\"}</td>\n",
       "      <td>IMAGE</td>\n",
       "      <td>100035004063337</td>\n",
       "      <td>Michael Dass Sumaylo</td>\n",
       "      <td>https://api.socioleads.com/api/Media/getpro?id...</td>\n",
       "      <td>http://graph.facebook.com/100035004063337/pict...</td>\n",
       "      <td>...</td>\n",
       "      <td>0</td>\n",
       "      <td>0</td>\n",
       "      <td>1561439185</td>\n",
       "      <td>False</td>\n",
       "      <td>https://www.facebook.com/3034931809881423</td>\n",
       "      <td>NaN</td>\n",
       "      <td>1561442280</td>\n",
       "      <td>False</td>\n",
       "      <td>NaN</td>\n",
       "      <td>NaN</td>\n",
       "    </tr>\n",
       "    <tr>\n",
       "      <th>201885</th>\n",
       "      <td>{\"$oid\":\"5d11b7e7a3df6323f881ab82\"}</td>\n",
       "      <td>5d11b7e7a3df6323f881ab81</td>\n",
       "      <td>{\"$numberLong\":\"660080627366565\"}</td>\n",
       "      <td>Affiliate Marketing - Worldwide</td>\n",
       "      <td>{\"$numberLong\":\"3034931773214760\"}</td>\n",
       "      <td>TEXT</td>\n",
       "      <td>1518169448</td>\n",
       "      <td>William Ugwu</td>\n",
       "      <td>https://api.socioleads.com/api/Media/getpro?id...</td>\n",
       "      <td>http://graph.facebook.com/1518169448/picture?t...</td>\n",
       "      <td>...</td>\n",
       "      <td>0</td>\n",
       "      <td>0</td>\n",
       "      <td>1561439184</td>\n",
       "      <td>False</td>\n",
       "      <td>https://www.facebook.com/3034931773214760</td>\n",
       "      <td>NaN</td>\n",
       "      <td>1561442280</td>\n",
       "      <td>True</td>\n",
       "      <td>NaN</td>\n",
       "      <td>NaN</td>\n",
       "    </tr>\n",
       "  </tbody>\n",
       "</table>\n",
       "<p>201886 rows × 32 columns</p>\n",
       "</div>"
      ],
      "text/plain": [
       "                                        _id                        Id  \\\n",
       "0       {\"$oid\":\"5b1aa7ee8bb55b300895a775\"}  5b1aa7ee8bb55b300895a774   \n",
       "1       {\"$oid\":\"5b1aa7ee8bb55b300895a777\"}  5b1aa7ee8bb55b300895a776   \n",
       "2       {\"$oid\":\"5b1aa7ee8bb55b300895a779\"}  5b1aa7ee8bb55b300895a778   \n",
       "3       {\"$oid\":\"5b1aa7ee8bb55b300895a77b\"}  5b1aa7ee8bb55b300895a77a   \n",
       "4       {\"$oid\":\"5b1aa7ee8bb55b300895a77d\"}  5b1aa7ee8bb55b300895a77c   \n",
       "...                                     ...                       ...   \n",
       "201881  {\"$oid\":\"5d11b7e7a3df6323f881ab7a\"}  5d11b7e7a3df6323f881ab79   \n",
       "201882  {\"$oid\":\"5d11b7e7a3df6323f881ab7c\"}  5d11b7e7a3df6323f881ab7b   \n",
       "201883  {\"$oid\":\"5d11b7e7a3df6323f881ab7e\"}  5d11b7e7a3df6323f881ab7d   \n",
       "201884  {\"$oid\":\"5d11b7e7a3df6323f881ab80\"}  5d11b7e7a3df6323f881ab7f   \n",
       "201885  {\"$oid\":\"5d11b7e7a3df6323f881ab82\"}  5d11b7e7a3df6323f881ab81   \n",
       "\n",
       "                                   GroupId                        GroupName  \\\n",
       "0       {\"$numberLong\":\"1124374080936565\"}      Empower Your Online Success   \n",
       "1       {\"$numberLong\":\"1124374080936565\"}      Empower Your Online Success   \n",
       "2       {\"$numberLong\":\"1124374080936565\"}      Empower Your Online Success   \n",
       "3       {\"$numberLong\":\"1124374080936565\"}      Empower Your Online Success   \n",
       "4       {\"$numberLong\":\"1124374080936565\"}      Empower Your Online Success   \n",
       "...                                    ...                              ...   \n",
       "201881   {\"$numberLong\":\"660080627366565\"}  Affiliate Marketing - Worldwide   \n",
       "201882   {\"$numberLong\":\"660080627366565\"}  Affiliate Marketing - Worldwide   \n",
       "201883   {\"$numberLong\":\"660080627366565\"}  Affiliate Marketing - Worldwide   \n",
       "201884   {\"$numberLong\":\"660080627366565\"}  Affiliate Marketing - Worldwide   \n",
       "201885   {\"$numberLong\":\"660080627366565\"}  Affiliate Marketing - Worldwide   \n",
       "\n",
       "                                    PostId PostType    UserProfileId  \\\n",
       "0       {\"$numberLong\":\"2171117736262189\"}    IMAGE       1348490940   \n",
       "1       {\"$numberLong\":\"2170670772973552\"}    IMAGE       1348490940   \n",
       "2       {\"$numberLong\":\"2170408029666493\"}    IMAGE       1348490940   \n",
       "3       {\"$numberLong\":\"2169907019716594\"}    IMAGE  100000659454027   \n",
       "4       {\"$numberLong\":\"2169711059736190\"}    IMAGE       1348490940   \n",
       "...                                    ...      ...              ...   \n",
       "201881  {\"$numberLong\":\"3034933096547961\"}     TEXT       1518169448   \n",
       "201882  {\"$numberLong\":\"3034932736547997\"}     TEXT  100005831411823   \n",
       "201883  {\"$numberLong\":\"3034932226548048\"}    IMAGE  100035763981237   \n",
       "201884  {\"$numberLong\":\"3034931809881423\"}    IMAGE  100035004063337   \n",
       "201885  {\"$numberLong\":\"3034931773214760\"}     TEXT       1518169448   \n",
       "\n",
       "                 ProfileName  \\\n",
       "0              Shawn Lemoine   \n",
       "1              Shawn Lemoine   \n",
       "2              Shawn Lemoine   \n",
       "3               Gian Fortuin   \n",
       "4              Shawn Lemoine   \n",
       "...                      ...   \n",
       "201881          William Ugwu   \n",
       "201882       Jonathan Reeves   \n",
       "201883               Yoyozhu   \n",
       "201884  Michael Dass Sumaylo   \n",
       "201885          William Ugwu   \n",
       "\n",
       "                                             ProfileImage  \\\n",
       "0       https://api.socioleadspro.com/api/Media/getpro...   \n",
       "1       https://api.socioleadspro.com/api/Media/getpro...   \n",
       "2       https://api.socioleadspro.com/api/Media/getpro...   \n",
       "3       https://api.socioleadspro.com/api/Media/getpro...   \n",
       "4       https://api.socioleadspro.com/api/Media/getpro...   \n",
       "...                                                   ...   \n",
       "201881  https://api.socioleads.com/api/Media/getpro?id...   \n",
       "201882  https://api.socioleads.com/api/Media/getpro?id...   \n",
       "201883  https://api.socioleads.com/api/Media/getpro?id...   \n",
       "201884  https://api.socioleads.com/api/Media/getpro?id...   \n",
       "201885  https://api.socioleads.com/api/Media/getpro?id...   \n",
       "\n",
       "                                     ProfileImageOriginal  ... NoOfComment  \\\n",
       "0       https://scontent-lhr3-1.xx.fbcdn.net/v/t1.0-1/...  ...           0   \n",
       "1       https://scontent-lhr3-1.xx.fbcdn.net/v/t1.0-1/...  ...           0   \n",
       "2       https://scontent-lhr3-1.xx.fbcdn.net/v/t1.0-1/...  ...           0   \n",
       "3       https://scontent-lhr3-1.xx.fbcdn.net/v/t1.0-1/...  ...           4   \n",
       "4       https://scontent-lhr3-1.xx.fbcdn.net/v/t1.0-1/...  ...           0   \n",
       "...                                                   ...  ...         ...   \n",
       "201881  http://graph.facebook.com/1518169448/picture?t...  ...           0   \n",
       "201882  http://graph.facebook.com/100005831411823/pict...  ...           0   \n",
       "201883  http://graph.facebook.com/100035763981237/pict...  ...           0   \n",
       "201884  http://graph.facebook.com/100035004063337/pict...  ...           0   \n",
       "201885  http://graph.facebook.com/1518169448/picture?t...  ...           0   \n",
       "\n",
       "       NoOfShare DateTimeOfPost connectionStatus  \\\n",
       "0              0     1528458840            False   \n",
       "1              0     1528428573            False   \n",
       "2              0     1528412555            False   \n",
       "3              0     1528381983            False   \n",
       "4              0     1528371412            False   \n",
       "...          ...            ...              ...   \n",
       "201881         0     1561439239            False   \n",
       "201882         0     1561439225            False   \n",
       "201883         0     1561439205            False   \n",
       "201884         0     1561439185            False   \n",
       "201885         0     1561439184            False   \n",
       "\n",
       "                                                  postUrl DestinationURL  \\\n",
       "0       https://www.facebook.com/groups/11243740809365...            NaN   \n",
       "1       https://www.facebook.com/groups/11243740809365...            NaN   \n",
       "2       https://www.facebook.com/groups/11243740809365...            NaN   \n",
       "3       https://www.facebook.com/groups/11243740809365...            NaN   \n",
       "4       https://www.facebook.com/groups/11243740809365...            NaN   \n",
       "...                                                   ...            ...   \n",
       "201881          https://www.facebook.com/3034933096547961            NaN   \n",
       "201882          https://www.facebook.com/3034932736547997            NaN   \n",
       "201883          https://www.facebook.com/3034932226548048            NaN   \n",
       "201884          https://www.facebook.com/3034931809881423            NaN   \n",
       "201885          https://www.facebook.com/3034931773214760            NaN   \n",
       "\n",
       "        savePostDateTimeUtc  mediaPostUrlUpdated  CommentDetails  HashTag  \n",
       "0                1528473583                 True             NaN      NaN  \n",
       "1                1528473583                 True             NaN      NaN  \n",
       "2                1528473583                 True             NaN      NaN  \n",
       "3                1528473583                 True             NaN      NaN  \n",
       "4                1528473583                 True             NaN      NaN  \n",
       "...                     ...                  ...             ...      ...  \n",
       "201881           1561442279                 True             NaN      NaN  \n",
       "201882           1561442279                 True             NaN      NaN  \n",
       "201883           1561442280                False             NaN      NaN  \n",
       "201884           1561442280                False             NaN      NaN  \n",
       "201885           1561442280                 True             NaN      NaN  \n",
       "\n",
       "[201886 rows x 32 columns]"
      ]
     },
     "execution_count": 46,
     "metadata": {},
     "output_type": "execute_result"
    }
   ],
   "source": [
    "out=pd.read_csv('out.csv')\n",
    "out"
   ]
  },
  {
   "cell_type": "markdown",
   "metadata": {},
   "source": [
    "# cleaned out.csv file and extracted the message column and saved as new csv"
   ]
  },
  {
   "cell_type": "code",
   "execution_count": 47,
   "metadata": {},
   "outputs": [
    {
     "data": {
      "text/html": [
       "<div>\n",
       "<style scoped>\n",
       "    .dataframe tbody tr th:only-of-type {\n",
       "        vertical-align: middle;\n",
       "    }\n",
       "\n",
       "    .dataframe tbody tr th {\n",
       "        vertical-align: top;\n",
       "    }\n",
       "\n",
       "    .dataframe thead th {\n",
       "        text-align: right;\n",
       "    }\n",
       "</style>\n",
       "<table border=\"1\" class=\"dataframe\">\n",
       "  <thead>\n",
       "    <tr style=\"text-align: right;\">\n",
       "      <th></th>\n",
       "      <th>Unnamed: 0</th>\n",
       "      <th>Message</th>\n",
       "    </tr>\n",
       "  </thead>\n",
       "  <tbody>\n",
       "    <tr>\n",
       "      <th>0</th>\n",
       "      <td>0</td>\n",
       "      <td>Youre about to GET LUCKY! Rise and shine. HAP...</td>\n",
       "    </tr>\n",
       "    <tr>\n",
       "      <th>1</th>\n",
       "      <td>1</td>\n",
       "      <td>Rest up, tomorrows a BIG DAY.\\r\\n You&amp;#039;re...</td>\n",
       "    </tr>\n",
       "    <tr>\n",
       "      <th>2</th>\n",
       "      <td>2</td>\n",
       "      <td>Start PRESSING with FORWARD moving people!\\r\\...</td>\n",
       "    </tr>\n",
       "    <tr>\n",
       "      <th>3</th>\n",
       "      <td>3</td>\n",
       "      <td>Everyone can do it as the work required to ea...</td>\n",
       "    </tr>\n",
       "    <tr>\n",
       "      <th>4</th>\n",
       "      <td>4</td>\n",
       "      <td>You have a habit of waking up every morning t...</td>\n",
       "    </tr>\n",
       "  </tbody>\n",
       "</table>\n",
       "</div>"
      ],
      "text/plain": [
       "   Unnamed: 0                                            Message\n",
       "0           0   Youre about to GET LUCKY! Rise and shine. HAP...\n",
       "1           1   Rest up, tomorrows a BIG DAY.\\r\\n You&#039;re...\n",
       "2           2   Start PRESSING with FORWARD moving people!\\r\\...\n",
       "3           3   Everyone can do it as the work required to ea...\n",
       "4           4   You have a habit of waking up every morning t..."
      ]
     },
     "execution_count": 47,
     "metadata": {},
     "output_type": "execute_result"
    }
   ],
   "source": [
    "test=pd.read_csv('GLOBUSSOFT_TASK2_Message3.csv')\n",
    "test"
   ]
  },
  {
   "cell_type": "code",
   "execution_count": 48,
   "metadata": {},
   "outputs": [
    {
     "name": "stderr",
     "output_type": "stream",
     "text": [
      "/home/sudhakar/anaconda3/lib/python3.7/site-packages/seaborn/_decorators.py:43: FutureWarning: Pass the following variable as a keyword arg: x. From version 0.12, the only valid positional argument will be `data`, and passing other arguments without an explicit keyword will result in an error or misinterpretation.\n",
      "  FutureWarning\n"
     ]
    },
    {
     "data": {
      "image/png": "[encoded data removed]",
      "text/plain": [
       "<Figure size 864x576 with 1 Axes>"
      ]
     },
     "metadata": {
      "image/png": {
       "height": 547,
       "width": 732
      }
     },
     "output_type": "display_data"
    }
   ],
   "source": [
    "from pylab import rcParams\n",
    "import matplotlib.pyplot as plt\n",
    "from matplotlib.ticker import MaxNLocator\n",
    "from matplotlib import rc\n",
    "\n",
    "import seaborn as sns\n",
    "%matplotlib inline\n",
    "%config InlineBackend.figure_format='retina'\n",
    "HAPPY_COLORS_PALETTE = [\"#01BEFE\", \"#FFDD00\", \"#FF7D00\", \"#FF006D\", \"#ADFF02\", \"#8F00FF\"]\n",
    "sns.set(style='whitegrid', palette='muted', font_scale=1.2)\n",
    "sns.set_palette(sns.color_palette(HAPPY_COLORS_PALETTE))\n",
    "rcParams['figure.figsize'] = 12, 8\n",
    "RANDOM_SEED = 42\n",
    "chart = sns.countplot(train.Intent)\n",
    "plt.title(\"Number of texts per intent\")\n",
    "chart.set_xticklabels(chart.get_xticklabels(), rotation=30, horizontalalignment='right');"
   ]
  },
  {
   "cell_type": "code",
   "execution_count": 49,
   "metadata": {},
   "outputs": [],
   "source": [
    "import spacy\n",
    "from spacy.lang.en.stop_words import STOP_WORDS\n",
    "nlp = spacy.load('en')\n"
   ]
  },
  {
   "cell_type": "code",
   "execution_count": 50,
   "metadata": {},
   "outputs": [],
   "source": [
    "# Build a list of stopwords to use to filter\n",
    "stopwords = list(STOP_WORDS)\n"
   ]
  },
  {
   "cell_type": "code",
   "execution_count": 51,
   "metadata": {},
   "outputs": [
    {
     "name": "stdout",
     "output_type": "stream",
     "text": [
      "This Lemma => this\n",
      "is Lemma => be\n",
      "how Lemma => how\n",
      "John Lemma => John\n",
      "Walker Lemma => Walker\n",
      "was Lemma => be\n",
      "walking Lemma => walk\n",
      ". Lemma => .\n",
      "He Lemma => -PRON-\n",
      "was Lemma => be\n",
      "also Lemma => also\n",
      "running Lemma => run\n",
      "beside Lemma => beside\n",
      "the Lemma => the\n",
      "lawn Lemma => lawn\n",
      ". Lemma => .\n"
     ]
    }
   ],
   "source": [
    "docx = nlp(\"This is how John Walker was walking. He was also running beside the lawn.\")\n",
    "\n",
    "# Lemmatizing of tokens\n",
    "for word in docx:\n",
    "    print(word.text,\"Lemma =>\",word.lemma_)"
   ]
  },
  {
   "cell_type": "code",
   "execution_count": 52,
   "metadata": {},
   "outputs": [
    {
     "data": {
      "text/plain": [
       "['this',\n",
       " 'be',\n",
       " 'how',\n",
       " 'john',\n",
       " 'walker',\n",
       " 'be',\n",
       " 'walk',\n",
       " '.',\n",
       " 'he',\n",
       " 'be',\n",
       " 'also',\n",
       " 'run',\n",
       " 'beside',\n",
       " 'the',\n",
       " 'lawn',\n",
       " '.']"
      ]
     },
     "execution_count": 52,
     "metadata": {},
     "output_type": "execute_result"
    }
   ],
   "source": [
    "# List Comprehensions of our Lemma\n",
    "[word.lemma_.lower().strip() if word.lemma_ != \"-PRON-\" else word.lower_ for word in docx]"
   ]
  },
  {
   "cell_type": "code",
   "execution_count": 53,
   "metadata": {},
   "outputs": [
    {
     "name": "stdout",
     "output_type": "stream",
     "text": [
      "John\n",
      "Walker\n",
      "walking\n",
      "running\n",
      "lawn\n"
     ]
    }
   ],
   "source": [
    "# Filtering out Stopwords and Punctuations\n",
    "for word in docx:\n",
    "    if word.is_stop == False and not word.is_punct:\n",
    "#     if word.is_stop != True and not word.is_punct:\n",
    "        print(word)\n"
   ]
  },
  {
   "cell_type": "code",
   "execution_count": 54,
   "metadata": {},
   "outputs": [
    {
     "data": {
      "text/plain": [
       "[John, Walker, walking, running, lawn]"
      ]
     },
     "execution_count": 54,
     "metadata": {},
     "output_type": "execute_result"
    }
   ],
   "source": [
    "# Stop words and Punctuation In List Comprehension\n",
    "[ word for word in docx if word.is_stop == False and not word.is_punct ]"
   ]
  },
  {
   "cell_type": "code",
   "execution_count": 55,
   "metadata": {},
   "outputs": [],
   "source": [
    "# Use the punctuations of string module\n",
    "import string\n",
    "punctuations = string.punctuation"
   ]
  },
  {
   "cell_type": "code",
   "execution_count": 56,
   "metadata": {},
   "outputs": [],
   "source": [
    "# Creating a Spacy Parser\n",
    "from spacy.lang.en import English\n",
    "parser = English()\n"
   ]
  },
  {
   "cell_type": "code",
   "execution_count": 57,
   "metadata": {},
   "outputs": [],
   "source": [
    "def spacy_tokenizer(sentence):\n",
    "    mytokens = parser(sentence)\n",
    "    mytokens = [ word.lemma_.lower().strip() if word.lemma_ != \"-PRON-\" else word.lower_ for word in mytokens ]\n",
    "    mytokens = [ word for word in mytokens if word not in stopwords and word not in punctuations ]\n",
    "    return mytokens"
   ]
  },
  {
   "cell_type": "code",
   "execution_count": 58,
   "metadata": {},
   "outputs": [],
   "source": [
    "# ML Packages\n",
    "from sklearn.feature_extraction.text import CountVectorizer,TfidfVectorizer\n",
    "from sklearn.metrics import accuracy_score \n",
    "from sklearn.base import TransformerMixin \n",
    "from sklearn.pipeline import Pipeline\n",
    "from sklearn.svm import LinearSVC"
   ]
  },
  {
   "cell_type": "code",
   "execution_count": 59,
   "metadata": {},
   "outputs": [],
   "source": [
    "#Custom transformer using spaCy \n",
    "class predictors(TransformerMixin):\n",
    "    def transform(self, X, **transform_params):\n",
    "        return [clean_text(text) for text in X]\n",
    "    def fit(self, X, y=None, **fit_params):\n",
    "        return self\n",
    "    def get_params(self, deep=True):\n",
    "        return {}\n",
    "\n",
    "# Basic function to clean the text \n",
    "def clean_text(text):     \n",
    "    return text.strip().lower()\n"
   ]
  },
  {
   "cell_type": "code",
   "execution_count": 60,
   "metadata": {},
   "outputs": [],
   "source": [
    "# Vectorization\n",
    "vectorizer = CountVectorizer(tokenizer = spacy_tokenizer, ngram_range=(1,1)) \n",
    "classifier = LinearSVC()\n"
   ]
  },
  {
   "cell_type": "code",
   "execution_count": 61,
   "metadata": {},
   "outputs": [],
   "source": [
    "# Using Tfidf\n",
    "tfvectorizer = TfidfVectorizer(tokenizer = spacy_tokenizer)\n"
   ]
  },
  {
   "cell_type": "code",
   "execution_count": 62,
   "metadata": {},
   "outputs": [
    {
     "data": {
      "text/plain": [
       "0    Achieve Alleviate Auction Avoid Bargain Bargai...\n",
       "1    Buy Coupon Discount Deal Shipping Hello sir, w...\n",
       "2    During the past decade, marketing managers and...\n",
       "Name: Message, dtype: object"
      ]
     },
     "execution_count": 62,
     "metadata": {},
     "output_type": "execute_result"
    }
   ],
   "source": [
    "# Features and Labels\n",
    "X = train['Message']\n",
    "ylabels = train['Intent']\n",
    "X\n"
   ]
  },
  {
   "cell_type": "code",
   "execution_count": 63,
   "metadata": {},
   "outputs": [
    {
     "data": {
      "text/plain": [
       "0     Youre about to GET LUCKY! Rise and shine. HAP...\n",
       "1     Rest up, tomorrows a BIG DAY.\\r\\n You&#039;re...\n",
       "2     Start PRESSING with FORWARD moving people!\\r\\...\n",
       "3     Everyone can do it as the work required to ea...\n",
       "4     You have a habit of waking up every morning t...\n",
       "Name: Message, dtype: object"
      ]
     },
     "execution_count": 63,
     "metadata": {},
     "output_type": "execute_result"
    }
   ],
   "source": [
    "Xtest=test['Message']\n",
    "Xtest\n"
   ]
  },
  {
   "cell_type": "code",
   "execution_count": 64,
   "metadata": {},
   "outputs": [],
   "source": [
    "\n",
    "# Splitting Data Set\n",
    "from sklearn.model_selection import train_test_split\n",
    "X_train, X_test, y_train, y_test = train_test_split(X, ylabels, test_size=0.2, random_state=42)"
   ]
  },
  {
   "cell_type": "code",
   "execution_count": 65,
   "metadata": {},
   "outputs": [],
   "source": [
    "# Create the  pipeline to clean, tokenize, vectorize, and classify \n",
    "pipe = Pipeline([(\"cleaner\", predictors()),\n",
    "                 ('vectorizer', vectorizer),\n",
    "                 ('classifier', classifier)])"
   ]
  },
  {
   "cell_type": "code",
   "execution_count": 66,
   "metadata": {},
   "outputs": [
    {
     "data": {
      "text/plain": [
       "Pipeline(steps=[('cleaner', <__main__.predictors object at 0x7f3be191edd0>),\n",
       "                ('vectorizer',\n",
       "                 CountVectorizer(tokenizer=<function spacy_tokenizer at 0x7f3be1b777a0>)),\n",
       "                ('classifier', LinearSVC())])"
      ]
     },
     "execution_count": 66,
     "metadata": {},
     "output_type": "execute_result"
    }
   ],
   "source": [
    "pipe.fit(X_train,y_train)"
   ]
  },
  {
   "cell_type": "code",
   "execution_count": 67,
   "metadata": {},
   "outputs": [
    {
     "name": "stdout",
     "output_type": "stream",
     "text": [
      "Accuracy:  0.6666666666666666\n"
     ]
    }
   ],
   "source": [
    "\n",
    "print(\"Accuracy: \",pipe.score(X,ylabels))\n"
   ]
  },
  {
   "cell_type": "code",
   "execution_count": 68,
   "metadata": {},
   "outputs": [
    {
     "data": {
      "text/plain": [
       "Pipeline(steps=[('cleaner', <__main__.predictors object at 0x7f3be191edd0>),\n",
       "                ('vectorizer',\n",
       "                 CountVectorizer(tokenizer=<function spacy_tokenizer at 0x7f3be1b777a0>)),\n",
       "                ('classifier', LinearSVC())])"
      ]
     },
     "execution_count": 68,
     "metadata": {},
     "output_type": "execute_result"
    }
   ],
   "source": [
    "# Fit our data\n",
    "pipe.fit(X,ylabels)"
   ]
  },
  {
   "cell_type": "markdown",
   "metadata": {},
   "source": [
    "# predicting"
   ]
  },
  {
   "cell_type": "code",
   "execution_count": 69,
   "metadata": {},
   "outputs": [
    {
     "data": {
      "text/plain": [
       "array(['seller', 'seller', 'seller', 'seller', 'seller'], dtype=object)"
      ]
     },
     "execution_count": 69,
     "metadata": {},
     "output_type": "execute_result"
    }
   ],
   "source": [
    "# Predicting with a test dataset\n",
    "sample_prediction = pipe.predict(Xtest)\n",
    "sample_prediction"
   ]
  },
  {
   "cell_type": "code",
   "execution_count": 70,
   "metadata": {},
   "outputs": [
    {
     "name": "stdout",
     "output_type": "stream",
     "text": [
      "Unnamed: 0 Prediction=> seller\n",
      "Message Prediction=> seller\n"
     ]
    }
   ],
   "source": [
    "for (sample,pred) in zip(test,sample_prediction):\n",
    "    \n",
    "    print(sample,\"Prediction=>\",pred)"
   ]
  },
  {
   "cell_type": "code",
   "execution_count": 71,
   "metadata": {},
   "outputs": [],
   "source": [
    "# Create the  pipeline to clean, tokenize, vectorize, and classify \n",
    "pipe_tfid = Pipeline([(\"cleaner\", predictors()),\n",
    "                 ('vectorizer', tfvectorizer),\n",
    "                 ('classifier', classifier)])"
   ]
  },
  {
   "cell_type": "code",
   "execution_count": 72,
   "metadata": {},
   "outputs": [
    {
     "data": {
      "text/plain": [
       "Pipeline(steps=[('cleaner', <__main__.predictors object at 0x7f3bebcf0610>),\n",
       "                ('vectorizer',\n",
       "                 TfidfVectorizer(tokenizer=<function spacy_tokenizer at 0x7f3be1b777a0>)),\n",
       "                ('classifier', LinearSVC())])"
      ]
     },
     "execution_count": 72,
     "metadata": {},
     "output_type": "execute_result"
    }
   ],
   "source": [
    "pipe_tfid.fit(X,ylabels)"
   ]
  },
  {
   "cell_type": "code",
   "execution_count": null,
   "metadata": {},
   "outputs": [],
   "source": []
  },
  {
   "cell_type": "code",
   "execution_count": 73,
   "metadata": {},
   "outputs": [
    {
     "data": {
      "text/plain": [
       "array(['buyer'], dtype=object)"
      ]
     },
     "execution_count": 73,
     "metadata": {},
     "output_type": "execute_result"
    }
   ],
   "source": [
    "sample_prediction1 = pipe_tfid.predict(X_test)\n",
    "sample_prediction1"
   ]
  },
  {
   "cell_type": "markdown",
   "metadata": {},
   "source": [
    "# predicted output of test data"
   ]
  },
  {
   "cell_type": "code",
   "execution_count": 86,
   "metadata": {},
   "outputs": [
    {
     "name": "stdout",
     "output_type": "stream",
     "text": [
      " Youre about to GET LUCKY! Rise and shine. HAPPY FRIDAY ALLSTARS!!\r\n",
      " Today&#039;s you&#039;re lucky day fellow WINNER!! (click on www.visitthesite.com... QUICKLY)\r\n",
      " See More  Prediction=> buyer\n"
     ]
    }
   ],
   "source": [
    "for (sample,pred) in zip(Xtest,sample_prediction1):\n",
    "    print(sample,\"Prediction=>\", pred)"
   ]
  },
  {
   "cell_type": "markdown",
   "metadata": {},
   "source": []
  },
  {
   "cell_type": "markdown",
   "metadata": {},
   "source": [
    "# function to print any text data"
   ]
  },
  {
   "cell_type": "code",
   "execution_count": 83,
   "metadata": {},
   "outputs": [
    {
     "name": "stdout",
     "output_type": "stream",
     "text": [
      "globussoft is a digital marketing and artficial company\n",
      "g Prediction=> buyer\n"
     ]
    }
   ],
   "source": [
    "def textdata(d=input()):\n",
    "    for (sample,pred) in zip(d,sample_prediction1):\n",
    "        print(sample,\"Prediction=>\", pred)\n",
    "textdata()    "
   ]
  },
  {
   "cell_type": "code",
   "execution_count": null,
   "metadata": {},
   "outputs": [],
   "source": []
  },
  {
   "cell_type": "code",
   "execution_count": null,
   "metadata": {},
   "outputs": [],
   "source": []
  },
  {
   "cell_type": "code",
   "execution_count": null,
   "metadata": {},
   "outputs": [],
   "source": []
  },
  {
   "cell_type": "code",
   "execution_count": null,
   "metadata": {},
   "outputs": [],
   "source": []
  }
 ],
 "metadata": {
  "kernelspec": {
   "display_name": "Python 3",
   "language": "python",
   "name": "python3"
  },
  "language_info": {
   "codemirror_mode": {
    "name": "ipython",
    "version": 3
   },
   "file_extension": ".py",
   "mimetype": "text/x-python",
   "name": "python",
   "nbconvert_exporter": "python",
   "pygments_lexer": "ipython3",
   "version": "3.7.6"
  },
  "varInspector": {
   "cols": {
    "lenName": 16,
    "lenType": 16,
    "lenVar": 40
   },
   "kernels_config": {
    "python": {
     "delete_cmd_postfix": "",
     "delete_cmd_prefix": "del ",
     "library": "var_list.py",
     "varRefreshCmd": "print(var_dic_list())"
    },
    "r": {
     "delete_cmd_postfix": ") ",
     "delete_cmd_prefix": "rm(",
     "library": "var_list.r",
     "varRefreshCmd": "cat(var_dic_list()) "
    }
   },
   "types_to_exclude": [
    "module",
    "function",
    "builtin_function_or_method",
    "instance",
    "_Feature"
   ],
   "window_display": false
  }
 },
 "nbformat": 4,
 "nbformat_minor": 4
}
