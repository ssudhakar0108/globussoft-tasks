{
 "cells": [
  {
   "cell_type": "markdown",
   "metadata": {},
   "source": [
    "# GLOBUSSOFT TASK_1 (SELENIUM AUTOMATION) WEBSCRAPING WITH HEADLESS BROWSER"
   ]
  },
  {
   "cell_type": "code",
   "execution_count": 2,
   "metadata": {},
   "outputs": [
    {
     "name": "stdout",
     "output_type": "stream",
     "text": [
      "https://www.google.com/search?source=hp&ei=_KG8X5LULNv8rQHU_SY&q=samsung+mobile&oq=samsung+mob&gs_lcp=CgZwc3ktYWIQAxgAMgUIABCxAzIFCAAQsQMyBQgAEMkDMgUIABCSAzIFCAAQkgMyAggAMgIIADIFCAAQsQMyAggAMgIIADoLCAAQsQMQgwEQyQM6CAgAELEDEIMBOgsILhCxAxDHARCjAjoFCC4QsQM6AgguOggILhCxAxCDAToICC4QxwEQowI6DgguELEDEIMBEMkDEJMCOg4ILhCxAxDHARCjAhCTAjoICAAQsQMQyQNQ7nlY5qIBYNarAWgEcAB4AIABXogBwAmSAQIxNZgBAKABAaoBB2d3cy13aXqwAQA&sclient=psy-ab\n"
     ]
    },
    {
     "data": {
      "text/html": [
       "<div>\n",
       "<style scoped>\n",
       "    .dataframe tbody tr th:only-of-type {\n",
       "        vertical-align: middle;\n",
       "    }\n",
       "\n",
       "    .dataframe tbody tr th {\n",
       "        vertical-align: top;\n",
       "    }\n",
       "\n",
       "    .dataframe thead th {\n",
       "        text-align: right;\n",
       "    }\n",
       "</style>\n",
       "<table border=\"1\" class=\"dataframe\">\n",
       "  <thead>\n",
       "    <tr style=\"text-align: right;\">\n",
       "      <th></th>\n",
       "      <th>NAMES</th>\n",
       "      <th>PRICE</th>\n",
       "      <th>URL</th>\n",
       "    </tr>\n",
       "  </thead>\n",
       "  <tbody>\n",
       "    <tr>\n",
       "      <th>0</th>\n",
       "      <td>Samsung Galaxy F12 |4GB RAM |128GB |Sky Blue |...</td>\n",
       "      <td>₹11,999.00</td>\n",
       "      <td>https://encrypted-tbn1.gstatic.com/shopping?q=...</td>\n",
       "    </tr>\n",
       "    <tr>\n",
       "      <th>1</th>\n",
       "      <td>Samsung Galaxy M31 (Space Black, 6GB RAM, 128G...</td>\n",
       "      <td>₹14,999.00</td>\n",
       "      <td>https://encrypted-tbn2.gstatic.com/shopping?q=...</td>\n",
       "    </tr>\n",
       "    <tr>\n",
       "      <th>2</th>\n",
       "      <td>Samsung Galaxy M12 |6GB RAM |128GB |Blue | 8nm...</td>\n",
       "      <td>₹13,499.00</td>\n",
       "      <td>https://encrypted-tbn3.gstatic.com/shopping?q=...</td>\n",
       "    </tr>\n",
       "    <tr>\n",
       "      <th>3</th>\n",
       "      <td>Samung Galaxy F22 | 4GB |64GB | Black | MTK G8...</td>\n",
       "      <td>₹12,499.00</td>\n",
       "      <td>https://encrypted-tbn0.gstatic.com/shopping?q=...</td>\n",
       "    </tr>\n",
       "    <tr>\n",
       "      <th>4</th>\n",
       "      <td>Samsung Galaxy M11 (Black, 4GB RAM, 64GB Stora...</td>\n",
       "      <td>₹8,799.00</td>\n",
       "      <td>https://encrypted-tbn1.gstatic.com/shopping?q=...</td>\n",
       "    </tr>\n",
       "    <tr>\n",
       "      <th>...</th>\n",
       "      <td>...</td>\n",
       "      <td>...</td>\n",
       "      <td>...</td>\n",
       "    </tr>\n",
       "    <tr>\n",
       "      <th>75</th>\n",
       "      <td>Galaxy M02s (4GB RAM) | Black |64GB | 16.55cm ...</td>\n",
       "      <td>₹10,499.00</td>\n",
       "      <td>https://encrypted-tbn2.gstatic.com/shopping?q=...</td>\n",
       "    </tr>\n",
       "    <tr>\n",
       "      <th>76</th>\n",
       "      <td>Samsung Galaxy A21s Blue / 6GB 64GB\\n₹14,999.0...</td>\n",
       "      <td>₹14,999.00</td>\n",
       "      <td>https://encrypted-tbn1.gstatic.com/shopping?q=...</td>\n",
       "    </tr>\n",
       "    <tr>\n",
       "      <th>77</th>\n",
       "      <td>Samsung Galaxy S20 + (Cosmic Gray, 8GB RAM, 12...</td>\n",
       "      <td>₹39,599.00</td>\n",
       "      <td>https://encrypted-tbn1.gstatic.com/shopping?q=...</td>\n",
       "    </tr>\n",
       "    <tr>\n",
       "      <th>78</th>\n",
       "      <td>Samsung Galaxy A21S 6GB Ram 128GB Storage (Sil...</td>\n",
       "      <td>₹17,499.00</td>\n",
       "      <td>https://encrypted-tbn3.gstatic.com/shopping?q=...</td>\n",
       "    </tr>\n",
       "    <tr>\n",
       "      <th>79</th>\n",
       "      <td>Samsung Galaxy S20 FE 8GB 128GB / Navy\\n₹37,99...</td>\n",
       "      <td>₹37,999.00</td>\n",
       "      <td>https://encrypted-tbn3.gstatic.com/shopping?q=...</td>\n",
       "    </tr>\n",
       "  </tbody>\n",
       "</table>\n",
       "<p>80 rows × 3 columns</p>\n",
       "</div>"
      ],
      "text/plain": [
       "                                                NAMES       PRICE  \\\n",
       "0   Samsung Galaxy F12 |4GB RAM |128GB |Sky Blue |...  ₹11,999.00   \n",
       "1   Samsung Galaxy M31 (Space Black, 6GB RAM, 128G...  ₹14,999.00   \n",
       "2   Samsung Galaxy M12 |6GB RAM |128GB |Blue | 8nm...  ₹13,499.00   \n",
       "3   Samung Galaxy F22 | 4GB |64GB | Black | MTK G8...  ₹12,499.00   \n",
       "4   Samsung Galaxy M11 (Black, 4GB RAM, 64GB Stora...   ₹8,799.00   \n",
       "..                                                ...         ...   \n",
       "75  Galaxy M02s (4GB RAM) | Black |64GB | 16.55cm ...  ₹10,499.00   \n",
       "76  Samsung Galaxy A21s Blue / 6GB 64GB\\n₹14,999.0...  ₹14,999.00   \n",
       "77  Samsung Galaxy S20 + (Cosmic Gray, 8GB RAM, 12...  ₹39,599.00   \n",
       "78  Samsung Galaxy A21S 6GB Ram 128GB Storage (Sil...  ₹17,499.00   \n",
       "79  Samsung Galaxy S20 FE 8GB 128GB / Navy\\n₹37,99...  ₹37,999.00   \n",
       "\n",
       "                                                  URL  \n",
       "0   https://encrypted-tbn1.gstatic.com/shopping?q=...  \n",
       "1   https://encrypted-tbn2.gstatic.com/shopping?q=...  \n",
       "2   https://encrypted-tbn3.gstatic.com/shopping?q=...  \n",
       "3   https://encrypted-tbn0.gstatic.com/shopping?q=...  \n",
       "4   https://encrypted-tbn1.gstatic.com/shopping?q=...  \n",
       "..                                                ...  \n",
       "75  https://encrypted-tbn2.gstatic.com/shopping?q=...  \n",
       "76  https://encrypted-tbn1.gstatic.com/shopping?q=...  \n",
       "77  https://encrypted-tbn1.gstatic.com/shopping?q=...  \n",
       "78  https://encrypted-tbn3.gstatic.com/shopping?q=...  \n",
       "79  https://encrypted-tbn3.gstatic.com/shopping?q=...  \n",
       "\n",
       "[80 rows x 3 columns]"
      ]
     },
     "execution_count": 2,
     "metadata": {},
     "output_type": "execute_result"
    }
   ],
   "source": [
    "# Importing Libraries\n",
    "\n",
    "import selenium\n",
    "from selenium import webdriver\n",
    "import time\n",
    "from selenium.webdriver.support.ui import WebDriverWait\n",
    "from selenium.webdriver.common.by import By\n",
    "from selenium.webdriver.support.ui import WebDriverWait\n",
    "from selenium.webdriver.support import expected_conditions as EC\n",
    "from selenium.common.exceptions import InvalidArgumentException\n",
    "from selenium.common.exceptions import ElementNotInteractableException\n",
    "from selenium.common.exceptions import ElementClickInterceptedException\n",
    "from selenium.common.exceptions import NoSuchElementException\n",
    "import requests\n",
    "import pandas as pd\n",
    "#HEADLESS BROWSER \n",
    "from selenium import webdriver\n",
    "from selenium.webdriver.chrome.options import Options\n",
    "\n",
    "options = Options()\n",
    "options.headless = True #headless bwowser making true\n",
    "driver = webdriver.Chrome(r\"/home/sudhakar/Downloads/chromedriver\", options=options)\n",
    "NAMES=[]\n",
    "PRICE=[]\n",
    "URL=[]\n",
    "driver.get(input())\n",
    "time.sleep(5)\n",
    "view=driver.find_element_by_xpath('//*[@id=\"hdtb-msb\"]/div[1]/div/div[2]/a').click()\n",
    "time.sleep(2)\n",
    "names=driver.find_elements_by_xpath('//div[@class=\"HUOptb\"]/div')\n",
    "if names is not None:\n",
    "    for i in names:\n",
    "        NAMES.append(i.text)\n",
    "           \n",
    "else:\n",
    "    NAMES.append('-')\n",
    "price=driver.find_elements_by_xpath('//span[@class=\"T14wmb\"]/b')\n",
    "if price is not None:\n",
    "    for i in price:\n",
    "        PRICE.append(i.text)\n",
    "           \n",
    "else:\n",
    "    PRICE.append('-')\n",
    "url=driver.find_elements_by_xpath('//div[@class=\"SirUVb sh-img__image\"]/img')\n",
    "if url is not None:\n",
    "    for i in url:\n",
    "        URL.append(i.get_attribute('src'))\n",
    "           \n",
    "else:\n",
    "    URL.append('-')\n",
    "import pandas as pd\n",
    "GLOBUSSOFT=pd.DataFrame({})\n",
    "GLOBUSSOFT['NAMES']=NAMES\n",
    "GLOBUSSOFT['PRICE']=PRICE\n",
    "GLOBUSSOFT['URL']=URL\n",
    "GLOBUSSOFT\n",
    "#ENTER THE INPUT URL PROVIDED BY GLOBUSSOFT TASK_1"
   ]
  },
  {
   "cell_type": "markdown",
   "metadata": {},
   "source": [
    "# ENTER THE INPUT URL PROVIDED BY GLOBUSSOFT TASK_1"
   ]
  },
  {
   "cell_type": "code",
   "execution_count": 3,
   "metadata": {},
   "outputs": [],
   "source": [
    "import csv\n",
    "#save to CSV\n",
    "GLOBUSSOFT.to_csv('globussoft_Task1.csv')"
   ]
  },
  {
   "cell_type": "code",
   "execution_count": 6,
   "metadata": {},
   "outputs": [],
   "source": [
    "from datetime import datetime\n",
    "file_name = 'globussoft_Task1' + str(datetime.now()) + '.csv'"
   ]
  },
  {
   "cell_type": "code",
   "execution_count": 7,
   "metadata": {},
   "outputs": [
    {
     "data": {
      "text/plain": [
       "'globussoft_Task12021-08-12 20:11:37.268183.csv'"
      ]
     },
     "execution_count": 7,
     "metadata": {},
     "output_type": "execute_result"
    }
   ],
   "source": [
    "file_name"
   ]
  },
  {
   "cell_type": "markdown",
   "metadata": {},
   "source": [
    "# WE SAVED ABOVE FILE IN TIMESTAMP"
   ]
  }
 ],
 "metadata": {
  "kernelspec": {
   "display_name": "Python 3",
   "language": "python",
   "name": "python3"
  },
  "language_info": {
   "codemirror_mode": {
    "name": "ipython",
    "version": 3
   },
   "file_extension": ".py",
   "mimetype": "text/x-python",
   "name": "python",
   "nbconvert_exporter": "python",
   "pygments_lexer": "ipython3",
   "version": "3.7.6"
  },
  "varInspector": {
   "cols": {
    "lenName": 16,
    "lenType": 16,
    "lenVar": 40
   },
   "kernels_config": {
    "python": {
     "delete_cmd_postfix": "",
     "delete_cmd_prefix": "del ",
     "library": "var_list.py",
     "varRefreshCmd": "print(var_dic_list())"
    },
    "r": {
     "delete_cmd_postfix": ") ",
     "delete_cmd_prefix": "rm(",
     "library": "var_list.r",
     "varRefreshCmd": "cat(var_dic_list()) "
    }
   },
   "types_to_exclude": [
    "module",
    "function",
    "builtin_function_or_method",
    "instance",
    "_Feature"
   ],
   "window_display": false
  }
 },
 "nbformat": 4,
 "nbformat_minor": 4
}
